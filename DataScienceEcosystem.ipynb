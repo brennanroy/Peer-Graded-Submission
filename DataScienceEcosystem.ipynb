{
 "cells": [
  {
   "cell_type": "markdown",
   "id": "22350c6f-37ae-48a9-8280-6b048b45b639",
   "metadata": {},
   "source": [
    "# Data Science Tools and Ecosystems"
   ]
  },
  {
   "cell_type": "markdown",
   "id": "2411ce93-78c8-4b95-916f-7c05b9371728",
   "metadata": {},
   "source": [
    "## Author\n",
    "Brennan Roy"
   ]
  },
  {
   "cell_type": "markdown",
   "id": "b4148eab-33fe-4648-a9fc-81a7b2f9d96f",
   "metadata": {},
   "source": [
    "**Objectives:**\n",
    "* To list a few popular Data Science languages\n",
    "* To list a few popular Data Science Libraries\n",
    "* To list a few popular Data Science Development Environments\n",
    "* To demonstrate Python arithmetic in code cells"
   ]
  },
  {
   "cell_type": "markdown",
   "id": "acbf48e3-1dd7-4043-8174-829edeac4621",
   "metadata": {},
   "source": [
    "In this notebook, Data Science Tools and Ecosystems are summarized."
   ]
  },
  {
   "cell_type": "markdown",
   "id": "732ed892-5f67-44b1-9c37-19704c381689",
   "metadata": {},
   "source": [
    "Some of the popular languages that Data Scientists use are:\n",
    "1) Python\n",
    "2) R\n",
    "3) SQL"
   ]
  },
  {
   "cell_type": "markdown",
   "id": "4002a349-d01c-41aa-8fdf-b465c9370c55",
   "metadata": {},
   "source": [
    "Some of the commonly used libraries used by Data Scientists include:\n",
    "1) Pandas\n",
    "2) NumPy\n",
    "3) Matplotlib"
   ]
  },
  {
   "cell_type": "markdown",
   "id": "329322e4-24a2-4b1e-8360-840e0cabd69e",
   "metadata": {},
   "source": [
    "| Data Science Tools |\n",
    "|--------------------|\n",
    "| R Studio           |\n",
    "| JupyterLab         |\n",
    "| Spyder             |"
   ]
  },
  {
   "cell_type": "markdown",
   "id": "dd46427d-75a0-4fb9-9a2a-23df2c8f1e22",
   "metadata": {},
   "source": [
    "### Below are a few examples of evaluating arithmetic expressions in Python"
   ]
  },
  {
   "cell_type": "code",
   "execution_count": 4,
   "id": "d161c05e-7998-4aea-878d-3d0b102e5d6f",
   "metadata": {},
   "outputs": [
    {
     "data": {
      "text/plain": [
       "17"
      ]
     },
     "execution_count": 4,
     "metadata": {},
     "output_type": "execute_result"
    }
   ],
   "source": [
    "# This is a simple arithmetic expression to multiply then add integers\n",
    "(3*4)+5"
   ]
  },
  {
   "cell_type": "code",
   "execution_count": 7,
   "id": "09a2248b-f908-40b1-aef0-4eab1a70ef17",
   "metadata": {},
   "outputs": [
    {
     "data": {
      "text/plain": [
       "3.3333333333333335"
      ]
     },
     "execution_count": 7,
     "metadata": {},
     "output_type": "execute_result"
    }
   ],
   "source": [
    "# This will convert 200 minutes to hours by dividing by 60\n",
    "200/60"
   ]
  },
  {
   "cell_type": "code",
   "execution_count": null,
   "id": "5d2a6ddb-06fd-43d8-8ad5-be9826546ab7",
   "metadata": {},
   "outputs": [],
   "source": []
  }
 ],
 "metadata": {
  "kernelspec": {
   "display_name": "Python",
   "language": "python",
   "name": "conda-env-python-py"
  },
  "language_info": {
   "codemirror_mode": {
    "name": "ipython",
    "version": 3
   },
   "file_extension": ".py",
   "mimetype": "text/x-python",
   "name": "python",
   "nbconvert_exporter": "python",
   "pygments_lexer": "ipython3",
   "version": "3.7.12"
  }
 },
 "nbformat": 4,
 "nbformat_minor": 5
}
